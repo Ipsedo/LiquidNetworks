{
 "cells": [
  {
   "cell_type": "code",
   "execution_count": null,
   "id": "initial_id",
   "metadata": {
    "collapsed": true
   },
   "outputs": [],
   "source": [
    "import pandas as pd\n",
    "from os.path import join\n",
    "from os import mkdir\n",
    "import torch as th\n",
    "from torch.nn import functional as F\n",
    "from tqdm import tqdm\n",
    "from liquid_networks.data.transform import standardize_column"
   ]
  },
  {
   "cell_type": "code",
   "outputs": [],
   "source": [
    "dataset_path = \"/home/samuel/Téléchargements/hms-harmful-brain-activity-classification\"\n",
    "output_folder = \"/home/samuel/Téléchargements/hms-harmful-brain-activity-classification/extracted_eeg_data\"\n",
    "\n",
    "mkdir(output_folder)"
   ],
   "metadata": {
    "collapsed": false
   },
   "id": "c164f58f81e52b0e",
   "execution_count": null
  },
  {
   "cell_type": "code",
   "outputs": [],
   "source": [
    "train_df = pd.read_csv(join(dataset_path, \"train.csv\"), sep=\",\")"
   ],
   "metadata": {
    "collapsed": false
   },
   "id": "96c5c73b5da07ff",
   "execution_count": null
  },
  {
   "cell_type": "code",
   "outputs": [],
   "source": [
    "target_cols = [\n",
    "    \"seizure_vote\",\n",
    "    \"lpd_vote\",\n",
    "    \"gpd_vote\",\n",
    "    \"lrda_vote\",\n",
    "    \"grda_vote\",\n",
    "    \"other_vote\",\n",
    "]\n",
    "\n",
    "sample_rate_eegs = 200\n",
    "nb_seconds_eegs = 50\n",
    "sample_rate_spec = 0.5\n",
    "nb_seconds_spectrogram = 10 * 60"
   ],
   "metadata": {
    "collapsed": false
   },
   "id": "469102768581f5d6",
   "execution_count": null
  },
  {
   "cell_type": "code",
   "outputs": [],
   "source": [
    "last_eeg_id = None\n",
    "last_eeg = None\n",
    "\n",
    "for i, row in tqdm(list(train_df.iterrows())):\n",
    "    # TODO read each parquet once\n",
    "    #spec = pd.read_parquet(\n",
    "    #    join(dataset_path, \"train_spectrograms\", f\"{row['spectrogram_id']}.parquet\"),\n",
    "    #    engine=\"pyarrow\",\n",
    "    #)\n",
    "        \n",
    "    if row[\"eeg_id\"] != last_eeg_id:\n",
    "        last_eeg = pd.read_parquet(\n",
    "            join(dataset_path, \"train_eegs\", f\"{row['eeg_id']}.parquet\"),\n",
    "            engine=\"pyarrow\",\n",
    "        )\n",
    "        last_eeg_id = row['eeg_id']\n",
    "\n",
    "    #sub_spec = spec.iloc[\n",
    "    #    int(sample_rate_spec * row[\"spectrogram_label_offset_seconds\"])\n",
    "    #    : int(sample_rate_spec * (row[\"spectrogram_label_offset_seconds\"] + nb_seconds_spectrogram))\n",
    "    #].drop(\"time\", axis=1)\n",
    "    \n",
    "    sub_eeg = last_eeg.iloc[\n",
    "        int(sample_rate_eegs * row[\"eeg_label_offset_seconds\"])\n",
    "        : int(sample_rate_eegs * (row[\"eeg_label_offset_seconds\"] + nb_seconds_eegs))\n",
    "    ]\n",
    "    \n",
    "    targets_df = row[target_cols].astype(float).fillna(0.0)\n",
    "    classes = targets_df / targets_df.sum()\n",
    "    \n",
    "    # specs_t = th.nan_to_num(th.tensor(sub_spec.to_numpy().T, dtype=th.float))\n",
    "    eeg_t = th.nan_to_num(th.tensor(sub_eeg.to_numpy().T, dtype=th.float))\n",
    "    classes_t = th.nan_to_num(th.tensor(classes.to_numpy(), dtype=th.float))\n",
    "    \n",
    "    # specs_t = F.pad(specs_t, (specs_t.size(1) - int(nb_seconds_spectrogram * sample_rate_spec), 0))\n",
    "    eeg_t = F.pad(eeg_t, (eeg_t.size(1) - int(nb_seconds_eegs * sample_rate_eegs), 0))\n",
    "\n",
    "    # th.save(specs_t, join(output_folder, f\"{i}_spec.pt\"))\n",
    "    th.save(eeg_t, join(output_folder, f\"{i}_eeg.pt\"))\n",
    "    th.save(classes_t, join(output_folder, f\"{i}_classes.pt\"))"
   ],
   "metadata": {
    "collapsed": false
   },
   "id": "5bc678755c46f1ba",
   "execution_count": null
  },
  {
   "cell_type": "code",
   "outputs": [],
   "source": [],
   "metadata": {
    "collapsed": false
   },
   "id": "4aa874727fe21177",
   "execution_count": null
  }
 ],
 "metadata": {
  "kernelspec": {
   "display_name": "Python 3",
   "language": "python",
   "name": "python3"
  },
  "language_info": {
   "codemirror_mode": {
    "name": "ipython",
    "version": 2
   },
   "file_extension": ".py",
   "mimetype": "text/x-python",
   "name": "python",
   "nbconvert_exporter": "python",
   "pygments_lexer": "ipython2",
   "version": "2.7.6"
  }
 },
 "nbformat": 4,
 "nbformat_minor": 5
}

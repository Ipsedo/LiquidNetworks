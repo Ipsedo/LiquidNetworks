{
 "cells": [
  {
   "cell_type": "code",
   "id": "initial_id",
   "metadata": {
    "collapsed": true
   },
   "source": [
    "import pandas as pd\n",
    "from os.path import join, isdir, exists\n",
    "from os import mkdir\n",
    "import torch as th\n",
    "from torch.nn import functional as F\n",
    "from tqdm import tqdm\n",
    "from random import shuffle, seed\n",
    "from torchaudio import functional as th_audio_f"
   ],
   "outputs": [],
   "execution_count": null
  },
  {
   "cell_type": "code",
   "source": [
    "dataset_path = \"/home/samuel/Téléchargements/hms-harmful-brain-activity-classification\"\n",
    "train_output_folder = \"/home/samuel/Téléchargements/hms-harmful-brain-activity-classification/train_eeg_data\"\n",
    "valid_output_folder = \"/home/samuel/Téléchargements/hms-harmful-brain-activity-classification/valid_eeg_data\"\n",
    "\n",
    "if not exists(train_output_folder):\n",
    "    mkdir(train_output_folder)\n",
    "elif not isdir(train_output_folder):\n",
    "    raise NotADirectoryError(\"Output folder '{}' does not exist!\".format(train_output_folder))\n",
    "\n",
    "if not exists(valid_output_folder):\n",
    "    mkdir(valid_output_folder)\n",
    "elif not isdir(valid_output_folder):\n",
    "    raise NotADirectoryError(\"Output folder '{}' does not exist!\".format(valid_output_folder))"
   ],
   "metadata": {
    "collapsed": false
   },
   "id": "c164f58f81e52b0e",
   "outputs": [],
   "execution_count": null
  },
  {
   "cell_type": "code",
   "source": [
    "train_ratio = 0.8\n",
    "\n",
    "seed(314159)\n",
    "\n",
    "all_data_df = pd.read_csv(join(dataset_path, \"train.csv\"), sep=\",\")\n",
    "\n",
    "unique_egg_ids = list(all_data_df[\"eeg_id\"].unique())\n",
    "shuffle(unique_egg_ids)\n",
    "\n",
    "train_eeg_ids = unique_egg_ids[:int(len(unique_egg_ids) * train_ratio)]\n",
    "valid_eeg_ids = unique_egg_ids[int(len(unique_egg_ids) * train_ratio):]\n",
    "\n",
    "train_df = all_data_df[all_data_df[\"eeg_id\"].isin(train_eeg_ids)]\n",
    "valid_df = all_data_df[all_data_df[\"eeg_id\"].isin(valid_eeg_ids)]"
   ],
   "metadata": {
    "collapsed": false
   },
   "id": "933703a19908493c",
   "outputs": [],
   "execution_count": null
  },
  {
   "cell_type": "code",
   "source": [
    "target_cols = [\n",
    "    \"seizure_vote\",\n",
    "    \"lpd_vote\",\n",
    "    \"gpd_vote\",\n",
    "    \"lrda_vote\",\n",
    "    \"grda_vote\",\n",
    "    \"other_vote\",\n",
    "]\n",
    "\n",
    "sample_rate_eegs = 200\n",
    "nb_seconds_eegs = 50\n",
    "sample_rate_spec = 0.5\n",
    "nb_seconds_spectrogram = 10 * 60"
   ],
   "metadata": {
    "collapsed": false
   },
   "id": "469102768581f5d6",
   "outputs": [],
   "execution_count": null
  },
  {
   "cell_type": "code",
   "source": [
    "def stft_eeg(eeg: th.Tensor, n_fft: int, fft_stride: int) -> th.Tensor:\n",
    "    nb_signals = eeg.size(0)\n",
    "\n",
    "    stft_tensors = []\n",
    "\n",
    "    for i in range(nb_signals):\n",
    "        signal = eeg[i, :]\n",
    "        signal = (signal - signal.mean()) / (signal.std() + 1e-8)\n",
    "\n",
    "        stft_t = th_audio_f.spectrogram(\n",
    "            signal,\n",
    "            pad=0,\n",
    "            window=th.hann_window(n_fft),\n",
    "            n_fft=n_fft,\n",
    "            hop_length=fft_stride,\n",
    "            win_length=n_fft,\n",
    "            power=None,\n",
    "            normalized=True,\n",
    "        )\n",
    "\n",
    "        stft_tensors.append(stft_t)\n",
    "\n",
    "    return th.cat(stft_tensors, dim=0)\n",
    "\n",
    "\n",
    "\n",
    "def extract_eeg(input_df: pd.DataFrame, output_folder: str) -> None:\n",
    "    last_eeg_id = None\n",
    "    last_eeg = None\n",
    "    \n",
    "    for i, row in tqdm(list(input_df.iterrows())):\n",
    "            \n",
    "        if row[\"eeg_id\"] != last_eeg_id:\n",
    "            last_eeg = pd.read_parquet(\n",
    "                join(dataset_path, \"train_eegs\", f\"{row['eeg_id']}.parquet\"),\n",
    "                engine=\"pyarrow\",\n",
    "            )\n",
    "            last_eeg_id = row['eeg_id']\n",
    "        \n",
    "        sub_eeg = last_eeg.iloc[\n",
    "            int(sample_rate_eegs * row[\"eeg_label_offset_seconds\"])\n",
    "            : int(sample_rate_eegs * (row[\"eeg_label_offset_seconds\"] + nb_seconds_eegs))\n",
    "        ]\n",
    "        \n",
    "        targets_df = row[target_cols].astype(float).fillna(0.0)\n",
    "        classes = targets_df / targets_df.sum()\n",
    "        \n",
    "        # specs_t = th.nan_to_num(th.tensor(sub_spec.to_numpy().T, dtype=th.float))\n",
    "        eeg_t = th.nan_to_num(th.tensor(sub_eeg.to_numpy().T, dtype=th.float))\n",
    "        classes_t = th.nan_to_num(th.tensor(classes.to_numpy(), dtype=th.float))\n",
    "        \n",
    "        # specs_t = F.pad(specs_t, (specs_t.size(1) - int(nb_seconds_spectrogram * sample_rate_spec), 0))\n",
    "        eeg_t = F.pad(eeg_t, (eeg_t.size(1) - int(nb_seconds_eegs * sample_rate_eegs), 0)).transpose(0, 1)\n",
    "        # eeg_stft = stft_eeg(eeg_t, 40, 40)[:, 1:]\n",
    "\n",
    "        # th.save(specs_t, join(output_folder, f\"{i}_spec.pt\"))\n",
    "        th.save(eeg_t, join(output_folder, f\"{i}_eeg.pt\"))\n",
    "        th.save(classes_t, join(output_folder, f\"{i}_classes.pt\"))"
   ],
   "metadata": {
    "collapsed": false
   },
   "id": "a8522e70db259406",
   "outputs": [],
   "execution_count": null
  },
  {
   "cell_type": "code",
   "source": [
    "extract_eeg(train_df, train_output_folder)"
   ],
   "metadata": {
    "collapsed": false
   },
   "id": "5bc678755c46f1ba",
   "outputs": [],
   "execution_count": null
  },
  {
   "cell_type": "code",
   "source": [
    "extract_eeg(valid_df, valid_output_folder)"
   ],
   "metadata": {
    "collapsed": false
   },
   "id": "4aa874727fe21177",
   "outputs": [],
   "execution_count": null
  },
  {
   "cell_type": "code",
   "source": [],
   "metadata": {
    "collapsed": false
   },
   "id": "22459f8021b4bcf5",
   "outputs": [],
   "execution_count": null
  }
 ],
 "metadata": {
  "kernelspec": {
   "display_name": "Python 3",
   "language": "python",
   "name": "python3"
  },
  "language_info": {
   "codemirror_mode": {
    "name": "ipython",
    "version": 2
   },
   "file_extension": ".py",
   "mimetype": "text/x-python",
   "name": "python",
   "nbconvert_exporter": "python",
   "pygments_lexer": "ipython2",
   "version": "2.7.6"
  }
 },
 "nbformat": 4,
 "nbformat_minor": 5
}

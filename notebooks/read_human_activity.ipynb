{
 "cells": [
  {
   "cell_type": "code",
   "execution_count": 8,
   "id": "initial_id",
   "metadata": {
    "collapsed": true,
    "ExecuteTime": {
     "end_time": "2024-03-11T17:19:31.290212029Z",
     "start_time": "2024-03-11T17:19:31.249531357Z"
    }
   },
   "outputs": [],
   "source": [
    "from os.path import join, isfile, isdir\n",
    "from os import listdir\n",
    "import pandas as pd\n",
    "import re"
   ]
  },
  {
   "cell_type": "code",
   "outputs": [],
   "source": [
    "dataset_path = \"/home/samuel/PycharmProjects/LiquidNetworks/out/human_activity\""
   ],
   "metadata": {
    "collapsed": false,
    "ExecuteTime": {
     "end_time": "2024-03-11T17:16:59.853481751Z",
     "start_time": "2024-03-11T17:16:59.810932975Z"
    }
   },
   "id": "37eac4ec337d24bd",
   "execution_count": 2
  },
  {
   "cell_type": "code",
   "outputs": [],
   "source": [
    "subject_df = pd.read_csv(join(dataset_path, \"data_subjects_info.csv\"), sep=\",\")"
   ],
   "metadata": {
    "collapsed": false,
    "ExecuteTime": {
     "end_time": "2024-03-11T17:17:34.726887763Z",
     "start_time": "2024-03-11T17:17:34.200676545Z"
    }
   },
   "id": "a54602284f0cea6d",
   "execution_count": 3
  },
  {
   "cell_type": "code",
   "outputs": [
    {
     "data": {
      "text/plain": "    code  weight  height  age  gender\n0      1     102     188   46       1\n1      2      72     180   28       1\n2      3      48     161   28       0\n3      4      90     176   31       1\n4      5      48     164   23       0\n5      6      76     180   28       1\n6      7      62     175   30       0\n7      8      52     161   24       0\n8      9      93     190   32       1\n9     10      72     164   31       0\n10    11      70     178   24       1\n11    12      60     167   33       1\n12    13      60     178   33       1\n13    14      70     180   35       1\n14    15      70     185   33       1\n15    16      96     172   29       0\n16    17      76     180   26       1\n17    18      54     164   26       0\n18    19      78     164   28       0\n19    20      88     180   25       1\n20    21      52     165   24       1\n21    22     100     186   31       1\n22    23      68     170   25       0\n23    24      74     173   18       0",
      "text/html": "<div>\n<style scoped>\n    .dataframe tbody tr th:only-of-type {\n        vertical-align: middle;\n    }\n\n    .dataframe tbody tr th {\n        vertical-align: top;\n    }\n\n    .dataframe thead th {\n        text-align: right;\n    }\n</style>\n<table border=\"1\" class=\"dataframe\">\n  <thead>\n    <tr style=\"text-align: right;\">\n      <th></th>\n      <th>code</th>\n      <th>weight</th>\n      <th>height</th>\n      <th>age</th>\n      <th>gender</th>\n    </tr>\n  </thead>\n  <tbody>\n    <tr>\n      <th>0</th>\n      <td>1</td>\n      <td>102</td>\n      <td>188</td>\n      <td>46</td>\n      <td>1</td>\n    </tr>\n    <tr>\n      <th>1</th>\n      <td>2</td>\n      <td>72</td>\n      <td>180</td>\n      <td>28</td>\n      <td>1</td>\n    </tr>\n    <tr>\n      <th>2</th>\n      <td>3</td>\n      <td>48</td>\n      <td>161</td>\n      <td>28</td>\n      <td>0</td>\n    </tr>\n    <tr>\n      <th>3</th>\n      <td>4</td>\n      <td>90</td>\n      <td>176</td>\n      <td>31</td>\n      <td>1</td>\n    </tr>\n    <tr>\n      <th>4</th>\n      <td>5</td>\n      <td>48</td>\n      <td>164</td>\n      <td>23</td>\n      <td>0</td>\n    </tr>\n    <tr>\n      <th>5</th>\n      <td>6</td>\n      <td>76</td>\n      <td>180</td>\n      <td>28</td>\n      <td>1</td>\n    </tr>\n    <tr>\n      <th>6</th>\n      <td>7</td>\n      <td>62</td>\n      <td>175</td>\n      <td>30</td>\n      <td>0</td>\n    </tr>\n    <tr>\n      <th>7</th>\n      <td>8</td>\n      <td>52</td>\n      <td>161</td>\n      <td>24</td>\n      <td>0</td>\n    </tr>\n    <tr>\n      <th>8</th>\n      <td>9</td>\n      <td>93</td>\n      <td>190</td>\n      <td>32</td>\n      <td>1</td>\n    </tr>\n    <tr>\n      <th>9</th>\n      <td>10</td>\n      <td>72</td>\n      <td>164</td>\n      <td>31</td>\n      <td>0</td>\n    </tr>\n    <tr>\n      <th>10</th>\n      <td>11</td>\n      <td>70</td>\n      <td>178</td>\n      <td>24</td>\n      <td>1</td>\n    </tr>\n    <tr>\n      <th>11</th>\n      <td>12</td>\n      <td>60</td>\n      <td>167</td>\n      <td>33</td>\n      <td>1</td>\n    </tr>\n    <tr>\n      <th>12</th>\n      <td>13</td>\n      <td>60</td>\n      <td>178</td>\n      <td>33</td>\n      <td>1</td>\n    </tr>\n    <tr>\n      <th>13</th>\n      <td>14</td>\n      <td>70</td>\n      <td>180</td>\n      <td>35</td>\n      <td>1</td>\n    </tr>\n    <tr>\n      <th>14</th>\n      <td>15</td>\n      <td>70</td>\n      <td>185</td>\n      <td>33</td>\n      <td>1</td>\n    </tr>\n    <tr>\n      <th>15</th>\n      <td>16</td>\n      <td>96</td>\n      <td>172</td>\n      <td>29</td>\n      <td>0</td>\n    </tr>\n    <tr>\n      <th>16</th>\n      <td>17</td>\n      <td>76</td>\n      <td>180</td>\n      <td>26</td>\n      <td>1</td>\n    </tr>\n    <tr>\n      <th>17</th>\n      <td>18</td>\n      <td>54</td>\n      <td>164</td>\n      <td>26</td>\n      <td>0</td>\n    </tr>\n    <tr>\n      <th>18</th>\n      <td>19</td>\n      <td>78</td>\n      <td>164</td>\n      <td>28</td>\n      <td>0</td>\n    </tr>\n    <tr>\n      <th>19</th>\n      <td>20</td>\n      <td>88</td>\n      <td>180</td>\n      <td>25</td>\n      <td>1</td>\n    </tr>\n    <tr>\n      <th>20</th>\n      <td>21</td>\n      <td>52</td>\n      <td>165</td>\n      <td>24</td>\n      <td>1</td>\n    </tr>\n    <tr>\n      <th>21</th>\n      <td>22</td>\n      <td>100</td>\n      <td>186</td>\n      <td>31</td>\n      <td>1</td>\n    </tr>\n    <tr>\n      <th>22</th>\n      <td>23</td>\n      <td>68</td>\n      <td>170</td>\n      <td>25</td>\n      <td>0</td>\n    </tr>\n    <tr>\n      <th>23</th>\n      <td>24</td>\n      <td>74</td>\n      <td>173</td>\n      <td>18</td>\n      <td>0</td>\n    </tr>\n  </tbody>\n</table>\n</div>"
     },
     "execution_count": 4,
     "metadata": {},
     "output_type": "execute_result"
    }
   ],
   "source": [
    "subject_df"
   ],
   "metadata": {
    "collapsed": false,
    "ExecuteTime": {
     "end_time": "2024-03-11T17:17:38.340512534Z",
     "start_time": "2024-03-11T17:17:38.242726186Z"
    }
   },
   "id": "d98c681c172a5cf8",
   "execution_count": 4
  },
  {
   "cell_type": "code",
   "outputs": [],
   "source": [
    "seq_length = 32\n",
    "\n",
    "regex_activity = re.compile(r\"^(\\w+)_\\d+$\")\n",
    "regex_subject = re.compile(r\"^sub_(\\d+)\\.csv$\")\n",
    "\n",
    "data_path = join(dataset_path, \"A_DeviceMotion_data\", \"A_DeviceMotion_data\")\n",
    "\n",
    "df_list = []\n",
    "\n",
    "for d in listdir(data_path):\n",
    "    dir_path = join(data_path, d)\n",
    "    if isdir(dir_path) and regex_activity.match(d):\n",
    "        act = regex_activity.match(d).group(1)\n",
    "        \n",
    "        for f in listdir(dir_path):\n",
    "            if isfile(join(dir_path, f)) and regex_subject.match(f):\n",
    "                subject = regex_subject.match(f).group(1)\n",
    "                \n",
    "                sub_df = pd.read_csv(join(dir_path, f), sep=\",\")\n",
    "                sub_df[\"act\"] = act\n",
    "                sub_df[\"subject\"] = subject\n",
    "                sub_df[\"file_index\"] = len(df_list)\n",
    "                sub_df = sub_df.iloc[len(sub_df) % seq_length:, :]\n",
    "                sub_df[\"time\"] = list(range(len(sub_df)))\n",
    "                \n",
    "                df_list.append(sub_df)\n",
    "\n",
    "all_data_df = pd.concat(df_list).drop(\"Unnamed: 0\", axis=1)"
   ],
   "metadata": {
    "collapsed": false,
    "ExecuteTime": {
     "end_time": "2024-03-11T17:45:05.592510215Z",
     "start_time": "2024-03-11T17:45:02.958141985Z"
    }
   },
   "id": "e86fc8fdb1eb9c48",
   "execution_count": 42
  },
  {
   "cell_type": "code",
   "outputs": [
    {
     "data": {
      "text/plain": "(43972, 1407104, 1407104)"
     },
     "execution_count": 43,
     "metadata": {},
     "output_type": "execute_result"
    }
   ],
   "source": [
    "len(all_data_df) // 32, len(all_data_df), len(all_data_df) // 32 * 32"
   ],
   "metadata": {
    "collapsed": false,
    "ExecuteTime": {
     "end_time": "2024-03-11T17:45:06.043190570Z",
     "start_time": "2024-03-11T17:45:06.039848193Z"
    }
   },
   "id": "5d0b0b3f4180463e",
   "execution_count": 43
  },
  {
   "cell_type": "code",
   "outputs": [
    {
     "data": {
      "text/plain": "Index(['attitude.roll', 'attitude.pitch', 'attitude.yaw', 'gravity.x',\n       'gravity.y', 'gravity.z', 'rotationRate.x', 'rotationRate.y',\n       'rotationRate.z', 'userAcceleration.x', 'userAcceleration.y',\n       'userAcceleration.z', 'act', 'subject', 'file_index', 'time'],\n      dtype='object')"
     },
     "execution_count": 45,
     "metadata": {},
     "output_type": "execute_result"
    }
   ],
   "source": [
    "all_data_df.columns"
   ],
   "metadata": {
    "collapsed": false,
    "ExecuteTime": {
     "end_time": "2024-03-11T18:19:07.290001940Z",
     "start_time": "2024-03-11T18:19:07.246228983Z"
    }
   },
   "id": "ffd7661097b9b6cf",
   "execution_count": 45
  },
  {
   "cell_type": "code",
   "outputs": [],
   "source": [
    "from torch.utils.data import Dataset\n",
    "from typing import Tuple, List\n",
    "import torch as th\n",
    "\n",
    "\n",
    "# MotionSense Dataset: Sensor Based Human Activity and Attribute Recognition\n",
    "class MotionSenseDataset(Dataset):\n",
    "    def __init__(self, dataset_path: str, load_train: bool = True) -> None:\n",
    "        super().__init__()\n",
    "\n",
    "        train_trials = list(range(1, 10))\n",
    "\n",
    "        self.__seq_length = 32\n",
    "\n",
    "        regex_activity = re.compile(r\"^(\\w+)_(\\d+)$\")\n",
    "        regex_subject = re.compile(r\"^sub_(\\d+)\\.csv$\")\n",
    "\n",
    "        data_path = join(dataset_path, \"A_DeviceMotion_data\", \"A_DeviceMotion_data\")\n",
    "\n",
    "        df_list: List[pd.DataFrame] = []\n",
    "\n",
    "        for d in listdir(data_path):\n",
    "            dir_path = join(data_path, d)\n",
    "            matched_dir = regex_activity.match(d)\n",
    "            if isdir(dir_path) and matched_dir:\n",
    "                act = matched_dir.group(1)\n",
    "                trial = matched_dir.group(2)\n",
    "\n",
    "                for f in listdir(dir_path):\n",
    "                    matched_file = regex_subject.match(f)\n",
    "                    if isfile(join(dir_path, f)) and matched_file:\n",
    "                        subject = matched_file.group(1)\n",
    "\n",
    "                        sub_df = pd.read_csv(join(dir_path, f), sep=\",\")\n",
    "                        sub_df[\"act\"] = act\n",
    "                        sub_df[\"trial\"] = int(trial)\n",
    "                        sub_df[\"subject\"] = int(subject)\n",
    "                        sub_df[\"file_index\"] = len(df_list)\n",
    "                        sub_df = sub_df.iloc[len(sub_df) % self.__seq_length:, :]\n",
    "                        sub_df[\"time\"] = list(range(len(sub_df)))\n",
    "\n",
    "                        df_list.append(sub_df)\n",
    "\n",
    "        self.__df = pd.concat(df_list).drop(\"Unnamed: 0\", axis=1)\n",
    "\n",
    "        cond = self.__df[\"trial\"].isin(train_trials)\n",
    "        self.__df = self.__df[cond if load_train else ~cond]\n",
    "\n",
    "        self.__features_columns = [\n",
    "            \"attitude.roll\", \"attitude.pitch\", \"attitude.yaw\", \"gravity.x\",\n",
    "            \"gravity.y\", \"gravity.z\", \"rotationRate.x\", \"rotationRate.y\",\n",
    "            \"rotationRate.z\", \"userAcceleration.x\", \"userAcceleration.y\",\n",
    "            \"userAcceleration.z\",\n",
    "        ]\n",
    "        self.__target_column = \"act\"\n",
    "\n",
    "        self.__class_to_idx = {\n",
    "            c: i for i, c in enumerate(sorted(self.__df[self.__target_column].unique()))\n",
    "        }\n",
    "\n",
    "    def __len__(self) -> int:\n",
    "        return len(self.__df) // self.__seq_length\n",
    "\n",
    "    def __getitem__(self, index: int) -> Tuple[th.Tensor, th.Tensor, th.Tensor]:\n",
    "        index_start = index * self.__seq_length\n",
    "        index_end = (index + 1) * self.__seq_length\n",
    "\n",
    "        sub_df = self.__df.iloc[index_start:index_end]\n",
    "\n",
    "        features_df = sub_df[self.__features_columns].astype(float).fillna(0)\n",
    "        target_variable = sub_df[self.__target_column].map(self.__class_to_idx)\n",
    "\n",
    "        return (\n",
    "            th.tensor(features_df.to_numpy().T, dtype=th.float),\n",
    "            th.ones(len(features_df), dtype=th.float),\n",
    "            th.tensor(target_variable.to_numpy(), dtype=th.long),\n",
    "        )"
   ],
   "metadata": {
    "collapsed": false
   },
   "id": "dea36a5d7bdc5529"
  }
 ],
 "metadata": {
  "kernelspec": {
   "display_name": "Python 3",
   "language": "python",
   "name": "python3"
  },
  "language_info": {
   "codemirror_mode": {
    "name": "ipython",
    "version": 2
   },
   "file_extension": ".py",
   "mimetype": "text/x-python",
   "name": "python",
   "nbconvert_exporter": "python",
   "pygments_lexer": "ipython2",
   "version": "2.7.6"
  }
 },
 "nbformat": 4,
 "nbformat_minor": 5
}
